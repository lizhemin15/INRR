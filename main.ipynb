{
 "cells": [
  {
   "cell_type": "code",
   "execution_count": 1,
   "metadata": {},
   "outputs": [
    {
     "name": "stdout",
     "output_type": "stream",
     "text": [
      "Cuda is  False\n",
      "Cuda num is  0\n"
     ]
    },
    {
     "data": {
      "image/png": "[encoded data removed]",
      "text/plain": [
       "<Figure size 432x288 with 1 Axes>"
      ]
     },
     "metadata": {
      "needs_background": "light"
     },
     "output_type": "display_data"
    },
    {
     "ename": "AttributeError",
     "evalue": "module 'demo' has no attribute 'mfn'",
     "output_type": "error",
     "traceback": [
      "\u001b[1;31m---------------------------------------------------------------------------\u001b[0m",
      "\u001b[1;31mAttributeError\u001b[0m                            Traceback (most recent call last)",
      "\u001b[1;32m<ipython-input-1-3432b3193521>\u001b[0m in \u001b[0;36m<module>\u001b[1;34m\u001b[0m\n\u001b[0;32m     49\u001b[0m                      \u001b[0mmask_path\u001b[0m\u001b[1;33m=\u001b[0m\u001b[0mmask_path\u001b[0m\u001b[1;33m,\u001b[0m\u001b[0mgiven_mask\u001b[0m\u001b[1;33m=\u001b[0m\u001b[1;32mNone\u001b[0m\u001b[1;33m,\u001b[0m\u001b[0mpara\u001b[0m\u001b[1;33m=\u001b[0m\u001b[0mpara\u001b[0m\u001b[1;33m,\u001b[0m\u001b[0minput_mode\u001b[0m\u001b[1;33m=\u001b[0m\u001b[1;34m'masked'\u001b[0m\u001b[1;33m,\u001b[0m\u001b[1;33m\u001b[0m\u001b[0m\n\u001b[0;32m     50\u001b[0m                     \u001b[0mstd_b\u001b[0m\u001b[1;33m=\u001b[0m\u001b[1;36m1e-3\u001b[0m\u001b[1;33m,\u001b[0m\u001b[0mreg_mode\u001b[0m\u001b[1;33m=\u001b[0m\u001b[0mreg_mode\u001b[0m\u001b[1;33m,\u001b[0m\u001b[0mmodel_name\u001b[0m\u001b[1;33m=\u001b[0m\u001b[0mmodel_name\u001b[0m\u001b[1;33m,\u001b[0m\u001b[0mpro_mode\u001b[0m\u001b[1;33m=\u001b[0m\u001b[1;34m'mask'\u001b[0m\u001b[1;33m,\u001b[0m\u001b[1;33m\u001b[0m\u001b[0m\n\u001b[1;32m---> 51\u001b[1;33m                                  opt_type='Adam',shuffle_mode='I',verbose=False,std_w=1e-3,act='tanh')\n\u001b[0m\u001b[0;32m     52\u001b[0m \u001b[1;31m# 对定义的训练任务进行训练\u001b[0m\u001b[1;33m\u001b[0m\u001b[1;33m\u001b[0m\u001b[0m\n\u001b[0;32m     53\u001b[0m \u001b[1;31m# 通过print_epoch,imshow_epoch参数调节每隔多少次输出一次\u001b[0m\u001b[1;33m\u001b[0m\u001b[1;33m\u001b[0m\u001b[0m\n",
      "\u001b[1;32mc:\\jamily\\github\\rmnn\\MinPy\\task.py\u001b[0m in \u001b[0;36m__init__\u001b[1;34m(self, m, n, data_path, mask_mode, random_rate, mask_path, given_mask, para, input_mode, std_b, reg_mode, model_name, pro_mode, opt_type, shuffle_mode, verbose, std_w, act)\u001b[0m\n\u001b[0;32m    179\u001b[0m         self.init_model(model_name=model_name,para=para,\n\u001b[0;32m    180\u001b[0m                         \u001b[0minput_mode\u001b[0m\u001b[1;33m=\u001b[0m\u001b[0minput_mode\u001b[0m\u001b[1;33m,\u001b[0m\u001b[0mstd_b\u001b[0m\u001b[1;33m=\u001b[0m\u001b[0mstd_b\u001b[0m\u001b[1;33m,\u001b[0m\u001b[1;33m\u001b[0m\u001b[0m\n\u001b[1;32m--> 181\u001b[1;33m                         opt_type=opt_type,std_w=std_w,act=act)\n\u001b[0m\u001b[0;32m    182\u001b[0m         \u001b[0mself\u001b[0m\u001b[1;33m.\u001b[0m\u001b[0mreg_mode\u001b[0m \u001b[1;33m=\u001b[0m \u001b[0mreg_mode\u001b[0m\u001b[1;33m\u001b[0m\u001b[0m\n\u001b[0;32m    183\u001b[0m         \u001b[0mself\u001b[0m\u001b[1;33m.\u001b[0m\u001b[0mmodel_name\u001b[0m \u001b[1;33m=\u001b[0m \u001b[0mmodel_name\u001b[0m\u001b[1;33m\u001b[0m\u001b[0m\n",
      "\u001b[1;32mc:\\jamily\\github\\rmnn\\MinPy\\task.py\u001b[0m in \u001b[0;36minit_model\u001b[1;34m(self, model_name, para, input_mode, std_b, opt_type, std_w, act)\u001b[0m\n\u001b[0;32m    107\u001b[0m             \u001b[0mmodel\u001b[0m \u001b[1;33m=\u001b[0m \u001b[0mdemo\u001b[0m\u001b[1;33m.\u001b[0m\u001b[0mfc\u001b[0m\u001b[1;33m(\u001b[0m\u001b[0mpara\u001b[0m\u001b[1;33m=\u001b[0m\u001b[0mpara\u001b[0m\u001b[1;33m,\u001b[0m\u001b[0mreg\u001b[0m\u001b[1;33m=\u001b[0m\u001b[0mself\u001b[0m\u001b[1;33m.\u001b[0m\u001b[0mreg_list\u001b[0m\u001b[1;33m,\u001b[0m\u001b[0mimg\u001b[0m\u001b[1;33m=\u001b[0m\u001b[0mself\u001b[0m\u001b[1;33m.\u001b[0m\u001b[0mpic\u001b[0m\u001b[1;33m,\u001b[0m\u001b[0mstd_b\u001b[0m\u001b[1;33m=\u001b[0m\u001b[0mstd_b\u001b[0m\u001b[1;33m)\u001b[0m\u001b[1;33m\u001b[0m\u001b[0m\n\u001b[0;32m    108\u001b[0m         \u001b[1;32melif\u001b[0m \u001b[0mmodel_name\u001b[0m \u001b[1;33m==\u001b[0m \u001b[1;34m'fourier'\u001b[0m \u001b[1;32mor\u001b[0m \u001b[0mmodel_name\u001b[0m \u001b[1;33m==\u001b[0m \u001b[1;34m'garbor'\u001b[0m\u001b[1;33m:\u001b[0m\u001b[1;33m\u001b[0m\u001b[0m\n\u001b[1;32m--> 109\u001b[1;33m             \u001b[0mmodel\u001b[0m \u001b[1;33m=\u001b[0m \u001b[0mdemo\u001b[0m\u001b[1;33m.\u001b[0m\u001b[0mmfn\u001b[0m\u001b[1;33m(\u001b[0m\u001b[0mpara\u001b[0m\u001b[1;33m=\u001b[0m\u001b[0mpara\u001b[0m\u001b[1;33m,\u001b[0m\u001b[0mreg\u001b[0m\u001b[1;33m=\u001b[0m\u001b[0mself\u001b[0m\u001b[1;33m.\u001b[0m\u001b[0mreg_list\u001b[0m\u001b[1;33m,\u001b[0m\u001b[0mimg\u001b[0m\u001b[1;33m=\u001b[0m\u001b[0mself\u001b[0m\u001b[1;33m.\u001b[0m\u001b[0mpic\u001b[0m\u001b[1;33m,\u001b[0m\u001b[0mstd_b\u001b[0m\u001b[1;33m=\u001b[0m\u001b[0mstd_b\u001b[0m\u001b[1;33m,\u001b[0m\u001b[0mtype_name\u001b[0m\u001b[1;33m=\u001b[0m\u001b[0mmodel_name\u001b[0m\u001b[1;33m)\u001b[0m\u001b[1;33m\u001b[0m\u001b[0m\n\u001b[0m\u001b[0;32m    110\u001b[0m             \u001b[1;31m# TODO 4. 加入FK(Full Kernel)模型\u001b[0m\u001b[1;33m\u001b[0m\u001b[1;33m\u001b[0m\u001b[0m\n\u001b[0;32m    111\u001b[0m         \u001b[1;32melif\u001b[0m \u001b[0mmodel_name\u001b[0m \u001b[1;33m==\u001b[0m \u001b[1;34m'fk'\u001b[0m\u001b[1;33m:\u001b[0m\u001b[1;33m\u001b[0m\u001b[0m\n",
      "\u001b[1;31mAttributeError\u001b[0m: module 'demo' has no attribute 'mfn'"
     ]
    }
   ],
   "source": [
    "from MinPy import task\n",
    "import torch as t\n",
    "from MinPy.toolbox.plot import plot_tra\n",
    "import matplotlib.pyplot as plt\n",
    "t.autograd.set_detect_anomaly(True)\n",
    "\n",
    "# m,n分别定义读取的图片的长宽，不用管原始是多少，这里会rescale到相应的大小\n",
    "m,n = 100,100\n",
    "# 第一类神经网络，神经网络输出本身就是矩阵：\n",
    "# 1. dmf:深度矩阵分解模型\n",
    "# 2. dip:Deep Image Prior\n",
    "# 3. fc: 全连接神经网络组成的AutoEncoderDecoder\n",
    "# model_name = 'dmf' #'dip','fc'\n",
    "# para = [m,m,n,n]\n",
    "\n",
    "# 第二类神经网络，从坐标映射到矩阵值：\n",
    "# 1. fp: F-Principle, ReLU激活的全连接神经网络， R^2 -> R^1\n",
    "# 2. fourier: multiply filter network ，当filter为傅里叶基的情况\n",
    "# 3. garbor: multiply filter network ，当filter为Garbor基的情况\n",
    "model_name = 'fourier'#'fourier'#'garbor'\n",
    "para = [2,256,1]\n",
    "\n",
    "# 读取图片的路径设置，可自行替换\n",
    "data_path=None#'./train_pics/Cameraman.jpg'\n",
    "# 设置mask的模式，\n",
    "# 为random时为随机丢失，和之后的random_rate相配合。\n",
    "# 为patch时，为丢失固定位置的像素，无需额外设置。\n",
    "# 为fixed时需要设置mask_path确定掩码图像\n",
    "mask_mode='random' # 'patch','fixed'\n",
    "# 当mask_mode为fixed时启用，读取掩码矩阵\n",
    "mask_path='./masks/mask.png'\n",
    "# 当mask_mode为random时启用，为丢失像素值的比例 [0,1]\n",
    "random_rate=0.75\n",
    "# 正则项的添加，包含四种正则项\n",
    "# 使用 None 代表无需正则\n",
    "# 使用 'TV' 代表使用默认参数的TV正则\n",
    "# 使用 'AIR' 代表使用默认参数的AIR自适应正则\n",
    "# 使用 'NN' 代表使用一个卷积神经网络正则\n",
    "# 使用 'eta' 代表自定义混合正则，由四项系数控制，分别控制['TV','row of AIR','col of AIR','NN']正则的系数，当填None时代表不使用该正则\n",
    "reg_mode = None # 'TV',''AIR','NN',None,'eta':custom\n",
    "# 使用 'eta' 时启用\n",
    "eta = [1e2,None,None,None]\n",
    "\n",
    "# 训练批次\n",
    "epoch=101\n",
    "\n",
    "# 定义训练任务，在task.py中定义，对于去噪或是其他逆问题只需要修改这个函数即可\n",
    "task_dmf = task.shuffle_task(m=m,n=n,data_path=data_path,mask_mode=mask_mode,random_rate=random_rate,\n",
    "                     mask_path=mask_path,given_mask=None,para=para,input_mode='masked',\n",
    "                    std_b=1e-3,reg_mode=reg_mode,model_name=model_name,pro_mode='mask',\n",
    "                                 opt_type='Adam',shuffle_mode='I',verbose=False,std_w=1e-3,act='tanh')\n",
    "# 对定义的训练任务进行训练\n",
    "# 通过print_epoch,imshow_epoch参数调节每隔多少次输出一次\n",
    "# 通过imshow 调节是否输出图像\n",
    "task_dmf.train(epoch=epoch,print_epoch=10,imshow_epoch=10,plot_mode='red',\n",
    "                   verbose=False,imshow=True,stop_err=None,eta=eta)\n",
    "# 绘制出收敛过程训练误差(Obs_MSE)和测试误差(Unk_MSE)的变化情况\n",
    "plot_tra(pro_list=task_dmf.pro_list,color='r',label='MSE',pointsize=50)\n",
    "plt.xlabel('Obs_MSE')\n",
    "plt.ylabel('Unk_MSE')\n",
    "plt.show()"
   ]
  },
  {
   "cell_type": "code",
   "execution_count": null,
   "metadata": {},
   "outputs": [],
   "source": []
  },
  {
   "cell_type": "code",
   "execution_count": null,
   "metadata": {},
   "outputs": [],
   "source": []
  }
 ],
 "metadata": {
  "kernelspec": {
   "display_name": "Python 3",
   "language": "python",
   "name": "python3"
  },
  "language_info": {
   "codemirror_mode": {
    "name": "ipython",
    "version": 3
   },
   "file_extension": ".py",
   "mimetype": "text/x-python",
   "name": "python",
   "nbconvert_exporter": "python",
   "pygments_lexer": "ipython3",
   "version": "3.7.0"
  }
 },
 "nbformat": 4,
 "nbformat_minor": 4
}
